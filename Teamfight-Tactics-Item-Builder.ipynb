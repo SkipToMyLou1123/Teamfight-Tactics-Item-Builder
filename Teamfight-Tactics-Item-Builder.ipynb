{
 "cells": [
  {
   "cell_type": "code",
   "execution_count": 5,
   "metadata": {
    "ExecuteTime": {
     "end_time": "2019-08-06T16:19:24.039176Z",
     "start_time": "2019-08-06T16:19:24.033465Z"
    }
   },
   "outputs": [
    {
     "data": {
      "text/plain": [
       "[(1, 1),\n",
       " (1, 2),\n",
       " (1, 3),\n",
       " (1, 4),\n",
       " (1, 5),\n",
       " (1, 6),\n",
       " (2, 2),\n",
       " (2, 3),\n",
       " (2, 4),\n",
       " (2, 5),\n",
       " (2, 6),\n",
       " (3, 3),\n",
       " (3, 4),\n",
       " (3, 5),\n",
       " (3, 6),\n",
       " (4, 4),\n",
       " (4, 5),\n",
       " (4, 6),\n",
       " (5, 5),\n",
       " (5, 6),\n",
       " (6, 6)]"
      ]
     },
     "execution_count": 5,
     "metadata": {},
     "output_type": "execute_result"
    }
   ],
   "source": [
    "list(itertools.combinations_with_replacement([1, 2, 3, 4, 5, 6], 2))"
   ]
  },
  {
   "cell_type": "code",
   "execution_count": 33,
   "metadata": {
    "ExecuteTime": {
     "end_time": "2019-08-06T16:38:12.162299Z",
     "start_time": "2019-08-06T16:38:12.159877Z"
    }
   },
   "outputs": [],
   "source": [
    "import itertools\n",
    "import copy"
   ]
  },
  {
   "cell_type": "code",
   "execution_count": 14,
   "metadata": {
    "ExecuteTime": {
     "end_time": "2019-08-06T16:26:00.762047Z",
     "start_time": "2019-08-06T16:26:00.758753Z"
    }
   },
   "outputs": [],
   "source": [
    "item_list = [\"A\", \"A\", \"B\", \"C\", \"D\", \"E\"]"
   ]
  },
  {
   "cell_type": "code",
   "execution_count": 24,
   "metadata": {
    "ExecuteTime": {
     "end_time": "2019-08-06T16:29:53.201043Z",
     "start_time": "2019-08-06T16:29:53.198188Z"
    }
   },
   "outputs": [],
   "source": [
    "item_list_str = \"\".join(item_list)"
   ]
  },
  {
   "cell_type": "code",
   "execution_count": 15,
   "metadata": {
    "ExecuteTime": {
     "end_time": "2019-08-06T16:26:01.128021Z",
     "start_time": "2019-08-06T16:26:01.124999Z"
    }
   },
   "outputs": [],
   "source": [
    "first_item_list = list(itertools.combinations(item_list, 2))"
   ]
  },
  {
   "cell_type": "code",
   "execution_count": 43,
   "metadata": {
    "ExecuteTime": {
     "end_time": "2019-08-06T18:52:57.159848Z",
     "start_time": "2019-08-06T18:52:57.155164Z"
    }
   },
   "outputs": [
    {
     "data": {
      "text/plain": [
       "[('A', 'A'), ('A', 'B'), ('A', 'B')]"
      ]
     },
     "execution_count": 43,
     "metadata": {},
     "output_type": "execute_result"
    }
   ],
   "source": [
    "get_combinations_list([\"A\", \"A\", \"B\"])"
   ]
  },
  {
   "cell_type": "code",
   "execution_count": 48,
   "metadata": {
    "ExecuteTime": {
     "end_time": "2019-08-06T18:56:57.054830Z",
     "start_time": "2019-08-06T18:56:57.051747Z"
    }
   },
   "outputs": [],
   "source": [
    "a = [\"A\", \"A\", \"B\"]"
   ]
  },
  {
   "cell_type": "code",
   "execution_count": 84,
   "metadata": {
    "ExecuteTime": {
     "end_time": "2019-08-06T19:37:24.974208Z",
     "start_time": "2019-08-06T19:37:24.971217Z"
    },
    "scrolled": true
   },
   "outputs": [],
   "source": [
    "c = a.extend(['k'])"
   ]
  },
  {
   "cell_type": "code",
   "execution_count": 86,
   "metadata": {
    "ExecuteTime": {
     "end_time": "2019-08-06T19:37:29.434823Z",
     "start_time": "2019-08-06T19:37:29.425004Z"
    }
   },
   "outputs": [
    {
     "ename": "NameError",
     "evalue": "name 'cc' is not defined",
     "output_type": "error",
     "traceback": [
      "\u001b[0;31m---------------------------------------------------------------------------\u001b[0m",
      "\u001b[0;31mNameError\u001b[0m                                 Traceback (most recent call last)",
      "\u001b[0;32m<ipython-input-86-2bd2965b6208>\u001b[0m in \u001b[0;36m<module>\u001b[0;34m\u001b[0m\n\u001b[0;32m----> 1\u001b[0;31m \u001b[0mcc\u001b[0m\u001b[0;34m\u001b[0m\u001b[0;34m\u001b[0m\u001b[0m\n\u001b[0m",
      "\u001b[0;31mNameError\u001b[0m: name 'cc' is not defined"
     ]
    }
   ],
   "source": []
  },
  {
   "cell_type": "code",
   "execution_count": 154,
   "metadata": {
    "ExecuteTime": {
     "end_time": "2019-08-07T21:06:53.326936Z",
     "start_time": "2019-08-07T21:06:53.319192Z"
    }
   },
   "outputs": [],
   "source": [
    "a = [['AA', 'BC', 'D'],\n",
    " ['AA', 'BD', 'C'],\n",
    " ['AA', 'B', 'CD'],\n",
    " ['AB', 'AC', 'D'],\n",
    " ['AB', 'AD', 'C'],\n",
    " ['A', 'AB', 'CD'],\n",
    " ['AB', 'AC', 'D'],\n",
    " ['AC', 'AD', 'B'],\n",
    " ['A', 'AC', 'BD'],\n",
    " ['AB', 'AD', 'C'],\n",
    " ['AC', 'AD', 'B'],\n",
    " ['A', 'AD', 'BC'],\n",
    " ['AB', 'AC', 'D'],\n",
    " ['AB', 'AD', 'C'],\n",
    " ['A', 'AB', 'CD'],\n",
    " ['AB', 'AC', 'D'],\n",
    " ['AC', 'AD', 'B'],\n",
    " ['A', 'AC', 'BD'],\n",
    " ['AB', 'AD', 'C'],\n",
    " ['AC', 'AD', 'B'],\n",
    " ['A', 'AD', 'BC'],\n",
    " ['AA', 'BC', 'D'],\n",
    " ['A', 'AD', 'BC'],\n",
    " ['AA', 'BD', 'C'],\n",
    " ['A', 'AC', 'BD'],\n",
    " ['AA', 'B', 'CD'],\n",
    " ['A', 'AB', 'CD']]"
   ]
  },
  {
   "cell_type": "code",
   "execution_count": 155,
   "metadata": {
    "ExecuteTime": {
     "end_time": "2019-08-07T21:06:58.506062Z",
     "start_time": "2019-08-07T21:06:58.503019Z"
    }
   },
   "outputs": [],
   "source": [
    "a.sort()"
   ]
  },
  {
   "cell_type": "code",
   "execution_count": 156,
   "metadata": {
    "ExecuteTime": {
     "end_time": "2019-08-07T21:07:00.239715Z",
     "start_time": "2019-08-07T21:07:00.233852Z"
    }
   },
   "outputs": [
    {
     "data": {
      "text/plain": [
       "[['A', 'AB', 'CD'],\n",
       " ['A', 'AB', 'CD'],\n",
       " ['A', 'AB', 'CD'],\n",
       " ['A', 'AC', 'BD'],\n",
       " ['A', 'AC', 'BD'],\n",
       " ['A', 'AC', 'BD'],\n",
       " ['A', 'AD', 'BC'],\n",
       " ['A', 'AD', 'BC'],\n",
       " ['A', 'AD', 'BC'],\n",
       " ['AA', 'B', 'CD'],\n",
       " ['AA', 'B', 'CD'],\n",
       " ['AA', 'BC', 'D'],\n",
       " ['AA', 'BC', 'D'],\n",
       " ['AA', 'BD', 'C'],\n",
       " ['AA', 'BD', 'C'],\n",
       " ['AB', 'AC', 'D'],\n",
       " ['AB', 'AC', 'D'],\n",
       " ['AB', 'AC', 'D'],\n",
       " ['AB', 'AC', 'D'],\n",
       " ['AB', 'AD', 'C'],\n",
       " ['AB', 'AD', 'C'],\n",
       " ['AB', 'AD', 'C'],\n",
       " ['AB', 'AD', 'C'],\n",
       " ['AC', 'AD', 'B'],\n",
       " ['AC', 'AD', 'B'],\n",
       " ['AC', 'AD', 'B'],\n",
       " ['AC', 'AD', 'B']]"
      ]
     },
     "execution_count": 156,
     "metadata": {},
     "output_type": "execute_result"
    }
   ],
   "source": [
    "a"
   ]
  },
  {
   "cell_type": "code",
   "execution_count": 157,
   "metadata": {
    "ExecuteTime": {
     "end_time": "2019-08-07T21:07:16.211544Z",
     "start_time": "2019-08-07T21:07:16.206200Z"
    }
   },
   "outputs": [
    {
     "data": {
      "text/plain": [
       "[['A', 'AB', 'CD'],\n",
       " ['A', 'AC', 'BD'],\n",
       " ['A', 'AD', 'BC'],\n",
       " ['AA', 'B', 'CD'],\n",
       " ['AA', 'BC', 'D'],\n",
       " ['AA', 'BD', 'C'],\n",
       " ['AB', 'AC', 'D'],\n",
       " ['AB', 'AD', 'C'],\n",
       " ['AC', 'AD', 'B']]"
      ]
     },
     "execution_count": 157,
     "metadata": {},
     "output_type": "execute_result"
    }
   ],
   "source": [
    "list(a for a,_ in itertools.groupby(a))"
   ]
  },
  {
   "cell_type": "code",
   "execution_count": 54,
   "metadata": {
    "ExecuteTime": {
     "end_time": "2019-08-06T19:07:41.282041Z",
     "start_time": "2019-08-06T19:07:41.277014Z"
    }
   },
   "outputs": [],
   "source": [
    "def get_combinations_list(item_list):\n",
    "    return list(itertools.combinations(item_list, 2))\n",
    "\n",
    "def get_sub_item_list(item_list, item_a, item_b):\n",
    "    item_list_str = \"\".join(item_list)\n",
    "    item_list_str = item_list_str.replace(item_a,\"\",1)\n",
    "    item_list_str = item_list_str.replace(item_b,\"\",1)\n",
    "    return list(item_list_str)"
   ]
  },
  {
   "cell_type": "code",
   "execution_count": 158,
   "metadata": {
    "ExecuteTime": {
     "end_time": "2019-08-07T21:07:46.603062Z",
     "start_time": "2019-08-07T21:07:46.598322Z"
    }
   },
   "outputs": [],
   "source": [
    "def get_item_combinations_list(item_list):\n",
    "    ret_list = []\n",
    "    combination_list = get_combinations_list(item_list)\n",
    "    get_item_combinations_list_helper(item_list, combination_list, ret_list, [])\n",
    "    for item in ret_list:\n",
    "        item.sort()\n",
    "    ret_list.sort()\n",
    "    return list(ret_list for ret_list,_ in itertools.groupby(ret_list))"
   ]
  },
  {
   "cell_type": "code",
   "execution_count": null,
   "metadata": {},
   "outputs": [],
   "source": [
    "tft_single_item_dict = {\n",
    "    'A': {\n",
    "        \"item\": \"B.F. Sword\",\n",
    "        \"icon\": \"B.F. Sword.png\"\n",
    "    },\n",
    "    'B': {\n",
    "        \"item\": \"Recurve Bow\",\n",
    "        \"icon\": \"Recurve Bow.png\"\n",
    "    },\n",
    "    'C': {\n",
    "        \"item\": \"Chain Vest\",\n",
    "        \"icon\": \"Chain Vest.png\"\n",
    "    },\n",
    "    'D': {\n",
    "        \"item\": \"Negatron Cloak\",\n",
    "        \"icon\": \"Negatron Cloak.png\"\n",
    "    },\n",
    "    'E': {\n",
    "        \"item\": \"Giant's Belt\",\n",
    "        \"icon\": \"Giant's Belt.png\"\n",
    "    },\n",
    "}"
   ]
  },
  {
   "cell_type": "code",
   "execution_count": null,
   "metadata": {},
   "outputs": [],
   "source": [
    "tft_combined_item_dict = {\n",
    "    'AA': {\n",
    "        \"item\": \"B.F. Sword\",\n",
    "        \"icon\": \"B.F. Sword.png\"\n",
    "    },\n",
    "    'AB': {\n",
    "        \"item\": \"Recurve Bow\",\n",
    "        \"icon\": \"Recurve Bow.png\"\n",
    "    },\n",
    "    'AC': {\n",
    "        \"item\": \"Chain Vest\",\n",
    "        \"icon\": \"Chain Vest.png\"\n",
    "    },\n",
    "    'AD': {\n",
    "        \"item\": \"Negatron Cloak\",\n",
    "        \"icon\": \"Negatron Cloak.png\"\n",
    "    },\n",
    "    'AE': {\n",
    "        \"item\": \"Giant's Belt\",\n",
    "        \"icon\": \"Giant's Belt.png\"\n",
    "    },\n",
    "    'BB': {\n",
    "        \"item\": \"B.F. Sword\",\n",
    "        \"icon\": \"B.F. Sword.png\"\n",
    "    },\n",
    "    'BC': {\n",
    "        \"item\": \"Chain Vest\",\n",
    "        \"icon\": \"Chain Vest.png\"\n",
    "    },\n",
    "    'BD': {\n",
    "        \"item\": \"Negatron Cloak\",\n",
    "        \"icon\": \"Negatron Cloak.png\"\n",
    "    },\n",
    "    'BE': {\n",
    "        \"item\": \"Giant's Belt\",\n",
    "        \"icon\": \"Giant's Belt.png\"\n",
    "    },    \n",
    "    'CC': {\n",
    "        \"item\": \"Chain Vest\",\n",
    "        \"icon\": \"Chain Vest.png\"\n",
    "    },\n",
    "    'CD': {\n",
    "        \"item\": \"Chain Vest\",\n",
    "        \"icon\": \"Chain Vest.png\"\n",
    "    },\n",
    "    'CE': {\n",
    "        \"item\": \"Giant's Belt\",\n",
    "        \"icon\": \"Giant's Belt.png\"\n",
    "    },\n",
    "    'DD': {\n",
    "        \"item\": \"Negatron Cloak\",\n",
    "        \"icon\": \"Negatron Cloak.png\"\n",
    "    },\n",
    "    'DE': {\n",
    "        \"item\": \"Giant's Belt\",\n",
    "        \"icon\": \"Giant's Belt.png\"\n",
    "    },\n",
    "    'EE': {\n",
    "        \"item\": \"Giant's Belt\",\n",
    "        \"icon\": \"Giant's Belt.png\"\n",
    "    },\n",
    "}"
   ]
  },
  {
   "cell_type": "code",
   "execution_count": 163,
   "metadata": {
    "ExecuteTime": {
     "end_time": "2019-08-07T21:18:43.237092Z",
     "start_time": "2019-08-07T21:18:43.224239Z"
    }
   },
   "outputs": [
    {
     "data": {
      "text/plain": [
       "[['A', 'CD', 'EE', 'FG'],\n",
       " ['A', 'CD', 'EF', 'EG'],\n",
       " ['A', 'CE', 'DE', 'FG'],\n",
       " ['A', 'CE', 'DF', 'EG'],\n",
       " ['A', 'CE', 'DG', 'EF'],\n",
       " ['A', 'CF', 'DE', 'EG'],\n",
       " ['A', 'CF', 'DG', 'EE'],\n",
       " ['A', 'CG', 'DE', 'EF'],\n",
       " ['A', 'CG', 'DF', 'EE'],\n",
       " ['AC', 'D', 'EE', 'FG'],\n",
       " ['AC', 'D', 'EF', 'EG'],\n",
       " ['AC', 'DE', 'E', 'FG'],\n",
       " ['AC', 'DE', 'EF', 'G'],\n",
       " ['AC', 'DE', 'EG', 'F'],\n",
       " ['AC', 'DF', 'E', 'EG'],\n",
       " ['AC', 'DF', 'EE', 'G'],\n",
       " ['AC', 'DG', 'E', 'EF'],\n",
       " ['AC', 'DG', 'EE', 'F'],\n",
       " ['AD', 'C', 'EE', 'FG'],\n",
       " ['AD', 'C', 'EF', 'EG'],\n",
       " ['AD', 'CE', 'E', 'FG'],\n",
       " ['AD', 'CE', 'EF', 'G'],\n",
       " ['AD', 'CE', 'EG', 'F'],\n",
       " ['AD', 'CF', 'E', 'EG'],\n",
       " ['AD', 'CF', 'EE', 'G'],\n",
       " ['AD', 'CG', 'E', 'EF'],\n",
       " ['AD', 'CG', 'EE', 'F'],\n",
       " ['AE', 'C', 'DE', 'FG'],\n",
       " ['AE', 'C', 'DF', 'EG'],\n",
       " ['AE', 'C', 'DG', 'EF'],\n",
       " ['AE', 'CD', 'E', 'FG'],\n",
       " ['AE', 'CD', 'EF', 'G'],\n",
       " ['AE', 'CD', 'EG', 'F'],\n",
       " ['AE', 'CE', 'D', 'FG'],\n",
       " ['AE', 'CE', 'DF', 'G'],\n",
       " ['AE', 'CE', 'DG', 'F'],\n",
       " ['AE', 'CF', 'D', 'EG'],\n",
       " ['AE', 'CF', 'DE', 'G'],\n",
       " ['AE', 'CF', 'DG', 'E'],\n",
       " ['AE', 'CG', 'D', 'EF'],\n",
       " ['AE', 'CG', 'DE', 'F'],\n",
       " ['AE', 'CG', 'DF', 'E'],\n",
       " ['AF', 'C', 'DE', 'EG'],\n",
       " ['AF', 'C', 'DG', 'EE'],\n",
       " ['AF', 'CD', 'E', 'EG'],\n",
       " ['AF', 'CD', 'EE', 'G'],\n",
       " ['AF', 'CE', 'D', 'EG'],\n",
       " ['AF', 'CE', 'DE', 'G'],\n",
       " ['AF', 'CE', 'DG', 'E'],\n",
       " ['AF', 'CG', 'D', 'EE'],\n",
       " ['AF', 'CG', 'DE', 'E'],\n",
       " ['AG', 'C', 'DE', 'EF'],\n",
       " ['AG', 'C', 'DF', 'EE'],\n",
       " ['AG', 'CD', 'E', 'EF'],\n",
       " ['AG', 'CD', 'EE', 'F'],\n",
       " ['AG', 'CE', 'D', 'EF'],\n",
       " ['AG', 'CE', 'DE', 'F'],\n",
       " ['AG', 'CE', 'DF', 'E'],\n",
       " ['AG', 'CF', 'D', 'EE'],\n",
       " ['AG', 'CF', 'DE', 'E']]"
      ]
     },
     "execution_count": 163,
     "metadata": {},
     "output_type": "execute_result"
    }
   ],
   "source": [
    "get_item_combinations_list([\"A\", \"C\", \"D\", \"E\", \"E\", \"F\", \"G\"])"
   ]
  },
  {
   "cell_type": "code",
   "execution_count": 111,
   "metadata": {
    "ExecuteTime": {
     "end_time": "2019-08-07T20:47:21.894371Z",
     "start_time": "2019-08-07T20:47:21.885239Z"
    }
   },
   "outputs": [],
   "source": [
    "def get_item_combinations_list_helper(item_list, combination_list, item_combination_list, current_item_build_list, residual_item=None):\n",
    "    if (residual_item != None and len(combination_list) != 0):\n",
    "#         print(\"Error\")\n",
    "        return\n",
    "    if len(combination_list) < 2:\n",
    "        if len(combination_list) == 1:\n",
    "            current_item_build_list.append(combination_list[0][0] + combination_list[0][1])\n",
    "#             print(\"len(combination_list) == 1, current_item_build_list:\", current_item_build_list)\n",
    "        else:\n",
    "            current_item_build_list.append(residual_item)\n",
    "#             print(\"len(combination_list) == 0, current_item_build_list:\", current_item_build_list)\n",
    "        item_combination_list.append(current_item_build_list)\n",
    "#         print(\"len(combination_list) < 2, item_combination_list:\", item_combination_list)\n",
    "        current_item_build_list = current_item_build_list[:-1]\n",
    "#         print(\"len(combination_list) < 2, current_item_build_list:\", current_item_build_list)\n",
    "    else:\n",
    "        for item_a, item_b in combination_list:\n",
    "#             print(\"len(combination_list) >= 2, items:\", item_a, item_b)\n",
    "            current_item_build_list.append(item_a + item_b)\n",
    "            original_size = len(current_item_build_list) - 1\n",
    "#             print(\"len(combination_list) >= 2, current_item_build_list:\", current_item_build_list)\n",
    "            sub_item_list = get_sub_item_list(item_list, item_a, item_b)\n",
    "#             print(\"len(combination_list) >= 2, sub_item_list:\", sub_item_list)\n",
    "            sub_combination_list = get_combinations_list(sub_item_list)\n",
    "#             print(\"len(combination_list) >= 2, sub_combination_list:\", sub_combination_list)\n",
    "            if len(sub_item_list) == 1:\n",
    "#                 print(\"len(sub_item_list) == 1\")\n",
    "                get_item_combinations_list_helper([], sub_combination_list, item_combination_list, current_item_build_list, sub_item_list[0])\n",
    "            else:\n",
    "#                 print(\"len(sub_item_list) == 1\")\n",
    "                get_item_combinations_list_helper(sub_item_list, sub_combination_list, item_combination_list, current_item_build_list)\n",
    "#             print(\"item loop end before remove, current_item_build_list:\", current_item_build_list)\n",
    "            current_item_build_list = current_item_build_list[0:original_size]\n",
    "#             print(\"item loop end, current_item_build_list:\", current_item_build_list)\n",
    "#             print(\"--------------END--------------\")"
   ]
  },
  {
   "cell_type": "code",
   "execution_count": 38,
   "metadata": {
    "ExecuteTime": {
     "end_time": "2019-08-06T16:41:55.955728Z",
     "start_time": "2019-08-06T16:41:55.904615Z"
    }
   },
   "outputs": [
    {
     "name": "stdout",
     "output_type": "stream",
     "text": [
      "DE\n",
      "BCDE\n",
      "DE\n",
      "ACDE\n",
      "DE\n",
      "ABDE\n",
      "DE\n",
      "ABCE\n",
      "DE\n",
      "ABCD\n",
      "DE\n",
      "ACDE\n",
      "DE\n",
      "ABDE\n",
      "DE\n",
      "ABCE\n",
      "DE\n",
      "ABCD\n",
      "DE\n",
      "AADE\n",
      "DE\n",
      "AACE\n",
      "DE\n",
      "AACD\n",
      "DE\n",
      "AABE\n",
      "DE\n",
      "AABD\n",
      "DE\n",
      "AABC\n"
     ]
    }
   ],
   "source": [
    "for item_a, item_b in first_item_list:\n",
    "    item_list_str_new = item_list_str.replace(item_a,\"\",1)\n",
    "    item_list_str_new = item_list_str_new.replace(item_b,\"\",1)\n",
    "    print(item_list_str_new)"
   ]
  },
  {
   "cell_type": "code",
   "execution_count": 19,
   "metadata": {
    "ExecuteTime": {
     "end_time": "2019-08-06T16:27:29.383186Z",
     "start_time": "2019-08-06T16:27:29.380446Z"
    }
   },
   "outputs": [],
   "source": [
    "a = \"['A', 'A', 'B', 'C', 'D', 'E']\""
   ]
  },
  {
   "cell_type": "code",
   "execution_count": 23,
   "metadata": {
    "ExecuteTime": {
     "end_time": "2019-08-06T16:29:12.165638Z",
     "start_time": "2019-08-06T16:29:12.160738Z"
    }
   },
   "outputs": [
    {
     "data": {
      "text/plain": [
       "['A', 'A', 'B', 'C', 'D', 'E']"
      ]
     },
     "execution_count": 23,
     "metadata": {},
     "output_type": "execute_result"
    }
   ],
   "source": [
    "\"\".join(item_list)"
   ]
  },
  {
   "cell_type": "code",
   "execution_count": 32,
   "metadata": {
    "ExecuteTime": {
     "end_time": "2019-08-06T16:36:52.198497Z",
     "start_time": "2019-08-06T16:36:52.194015Z"
    }
   },
   "outputs": [
    {
     "data": {
      "text/plain": [
       "'ACDE'"
      ]
     },
     "execution_count": 32,
     "metadata": {},
     "output_type": "execute_result"
    }
   ],
   "source": [
    "item_list_str.replace(\"AB\",\"\",1)"
   ]
  },
  {
   "cell_type": "code",
   "execution_count": null,
   "metadata": {},
   "outputs": [],
   "source": []
  }
 ],
 "metadata": {
  "kernelspec": {
   "display_name": "Python 3",
   "language": "python",
   "name": "python3"
  },
  "language_info": {
   "codemirror_mode": {
    "name": "ipython",
    "version": 3
   },
   "file_extension": ".py",
   "mimetype": "text/x-python",
   "name": "python",
   "nbconvert_exporter": "python",
   "pygments_lexer": "ipython3",
   "version": "3.7.3"
  },
  "toc": {
   "base_numbering": 1,
   "nav_menu": {},
   "number_sections": true,
   "sideBar": true,
   "skip_h1_title": false,
   "title_cell": "Table of Contents",
   "title_sidebar": "Contents",
   "toc_cell": false,
   "toc_position": {},
   "toc_section_display": true,
   "toc_window_display": false
  },
  "varInspector": {
   "cols": {
    "lenName": 16,
    "lenType": 16,
    "lenVar": 40
   },
   "kernels_config": {
    "python": {
     "delete_cmd_postfix": "",
     "delete_cmd_prefix": "del ",
     "library": "var_list.py",
     "varRefreshCmd": "print(var_dic_list())"
    },
    "r": {
     "delete_cmd_postfix": ") ",
     "delete_cmd_prefix": "rm(",
     "library": "var_list.r",
     "varRefreshCmd": "cat(var_dic_list()) "
    }
   },
   "types_to_exclude": [
    "module",
    "function",
    "builtin_function_or_method",
    "instance",
    "_Feature"
   ],
   "window_display": false
  }
 },
 "nbformat": 4,
 "nbformat_minor": 2
}
